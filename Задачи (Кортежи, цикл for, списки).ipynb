{
 "cells": [
  {
   "cell_type": "markdown",
   "metadata": {},
   "source": [
    "#### Даны два целых числа A и B (при этом A≤B). Выведите все числа от A до B включительно"
   ]
  },
  {
   "cell_type": "code",
   "execution_count": 17,
   "metadata": {
    "collapsed": false
   },
   "outputs": [
    {
     "name": "stdout",
     "output_type": "stream",
     "text": [
      "1\n",
      "34\n",
      "1 2 3 4 5 6 7 8 9 10 11 12 13 14 15 16 17 18 19 20 21 22 23 24 25 26 27 28 29 30 31 32 33 34 "
     ]
    }
   ],
   "source": [
    "a = int(input())\n",
    "b = int(input())\n",
    "\n",
    "\n",
    "for item in range(a, b+1):\n",
    "    print(item, end = \" \")\n"
   ]
  },
  {
   "cell_type": "markdown",
   "metadata": {},
   "source": [
    "#### Даны два целых числа A и В. Выведите все числа от A до B включительно, в порядке возрастания,если A < B, или в порядке убывания в противном случае."
   ]
  },
  {
   "cell_type": "code",
   "execution_count": 25,
   "metadata": {
    "collapsed": false
   },
   "outputs": [
    {
     "name": "stdout",
     "output_type": "stream",
     "text": [
      "1\n",
      "10\n",
      "[1, 2, 3, 4, 5, 6, 7, 8, 9, 10]\n"
     ]
    }
   ],
   "source": [
    "def myMin(x, y):\n",
    "    z = x\n",
    "    if z > y:\n",
    "        return y\n",
    "    return z\n",
    "\n",
    "\n",
    "def myMax(x, y):\n",
    "    z = x\n",
    "    if z < y:\n",
    "        return y\n",
    "    return z\n",
    "\n",
    "\n",
    "a = int(input())\n",
    "b = int(input())\n",
    "\n",
    "A = myMin(a, b)\n",
    "B = myMax(a, b)\n",
    "\n",
    "myList = [temp for temp in range(A, B + 1)]\n",
    "\n",
    "if a < b:\n",
    "    print(myList[:])\n",
    "else:\n",
    "    print(myList[::-1])"
   ]
  },
  {
   "cell_type": "markdown",
   "metadata": {},
   "source": [
    "#### Второй способ решения. Даны два целых числа A и В. Выведите все числа от A до B включительно, в порядке возрастания,если A < B, или в порядке убывания в противном случае."
   ]
  },
  {
   "cell_type": "code",
   "execution_count": 33,
   "metadata": {
    "collapsed": false
   },
   "outputs": [
    {
     "name": "stdout",
     "output_type": "stream",
     "text": [
      "10\n",
      "1\n",
      "10 9 8 7 6 5 4 3 2 1 "
     ]
    }
   ],
   "source": [
    "a = int(input())\n",
    "b = int(input())\n",
    "\n",
    "if a == b:\n",
    "    print(a)\n",
    "elif a < b:\n",
    "    for item in range(a, b+1):\n",
    "        print(item, end=\" \")\n",
    "else:\n",
    "    while a >= b:\n",
    "        print(a, end=\" \")\n",
    "        a -= 1"
   ]
  },
  {
   "cell_type": "markdown",
   "metadata": {},
   "source": [
    "#### Дано натуральное число n. Напечатайте все n-значные нечетные натуральные числа в порядке убывания."
   ]
  },
  {
   "cell_type": "code",
   "execution_count": null,
   "metadata": {
    "collapsed": false
   },
   "outputs": [],
   "source": [
    "n = int(input())\n",
    "A = 10 ** n - 1\n",
    "B = 10 ** (n - 1)\n",
    "\n",
    "while A >= B:\n",
    "        if A % 2 == 1:\n",
    "            print(A, end = \" \")\n",
    "        A -= 1"
   ]
  },
  {
   "cell_type": "markdown",
   "metadata": {},
   "source": [
    "### Сумма квадратов"
   ]
  },
  {
   "cell_type": "markdown",
   "metadata": {},
   "source": [
    "#### По данному натуральном n вычислите сумму 1²+2²+3²+...+n²."
   ]
  },
  {
   "cell_type": "code",
   "execution_count": 3,
   "metadata": {
    "collapsed": false
   },
   "outputs": [
    {
     "name": "stdout",
     "output_type": "stream",
     "text": [
      "3\n",
      "14\n"
     ]
    }
   ],
   "source": [
    "n = int(input())\n",
    "mylist = [tempa ** 2 for tempa in range(n+1)]\n",
    "print(sum(mylist))"
   ]
  },
  {
   "cell_type": "markdown",
   "metadata": {},
   "source": [
    "### Флаги"
   ]
  },
  {
   "cell_type": "markdown",
   "metadata": {},
   "source": [
    "Напишите программу, которая по данному числу n от 1 до 9 выводит на экран n флагов. Изображение одного флага имеет размер 4×4 символов, между двумя соседними флагами также имеется пустой (из пробелов) столбец. Разрешается вывести пустой столбец после последнего флага. Внутри каждого флага должен быть записан его номер — число от 1 до n."
   ]
  },
  {
   "cell_type": "code",
   "execution_count": 31,
   "metadata": {
    "collapsed": false
   },
   "outputs": [
    {
     "name": "stdout",
     "output_type": "stream",
     "text": [
      "6\n",
      "+___ +___ +___ +___ +___ +___ \n",
      "|1 / |2 / |3 / |4 / |5 / |6 / \n",
      "|__\\ |__\\ |__\\ |__\\ |__\\ |__\\ \n",
      "|    |    |    |    |    |    \n"
     ]
    }
   ],
   "source": [
    "def flag(i):\n",
    "    print((\"+___ \")*i)\n",
    "    for t in range(1, i+1):\n",
    "        print((\"|{} / \").format(t), end='')\n",
    "    print('')\n",
    "    print((\"|__\\\\ \")*i)\n",
    "    print((\"|    \")*i)\n",
    "\n",
    "n = int(input())\n",
    "flag(n)"
   ]
  }
 ],
 "metadata": {
  "kernelspec": {
   "display_name": "Python 3",
   "language": "python",
   "name": "python3"
  },
  "language_info": {
   "codemirror_mode": {
    "name": "ipython",
    "version": 3
   },
   "file_extension": ".py",
   "mimetype": "text/x-python",
   "name": "python",
   "nbconvert_exporter": "python",
   "pygments_lexer": "ipython3",
   "version": "3.6.0"
  }
 },
 "nbformat": 4,
 "nbformat_minor": 2
}
